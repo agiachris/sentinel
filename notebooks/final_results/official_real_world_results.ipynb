{
 "cells": [
  {
   "cell_type": "code",
   "execution_count": null,
   "metadata": {},
   "outputs": [],
   "source": [
    "%matplotlib inline\n",
    "from matplotlib import pyplot as plt\n",
    "serif = False\n",
    "render_format = \"pdf\"\n",
    "if serif:\n",
    "    dir_postfix = \"\"\n",
    "    plt.rcParams[\"font.family\"] = \"serif\"\n",
    "else:\n",
    "    dir_postfix = \"sans\"\n",
    "    plt.rcParams[\"font.family\"] = \"Liberation Sans\"\n",
    "plt.rcParams[\"font.size\"] = 10\n",
    "plt.rcParams[\"pdf.fonttype\"] = 42\n",
    "plt.rcParams[\"ps.fonttype\"] = 42\n",
    "\n",
    "from results import *"
   ]
  },
  {
   "cell_type": "markdown",
   "metadata": {},
   "source": [
    "# Real-World Analysis: Push Chair"
   ]
  },
  {
   "cell_type": "code",
   "execution_count": 2,
   "metadata": {},
   "outputs": [],
   "source": [
    "real_exp_keys = []\n",
    "\n",
    "# Generate temporal consistency experiment keys.\n",
    "real_exp_keys += get_temporal_consistency_exp_keys(\n",
    "    pred_horizons=[16],\n",
    "    sample_sizes=[256],\n",
    "    error_fns=[\"mmd_rbf_all_median\", \"kde_kl_all_rev_eig\", \"kde_kl_all_for_eig\", \"mse_all\"],\n",
    "    aggr_fns=[\"min\"],\n",
    ")\n",
    "\n",
    "# Generate ensemble experiment keys.\n",
    "real_exp_keys += get_ensemble_exp_keys(\n",
    "    pred_horizons=[16],\n",
    "    sample_sizes=[256],\n",
    "    action_spaces=[\"all\"],\n",
    ")\n",
    "\n",
    "# Generate VLM experiment keys.\n",
    "real_exp_keys += get_vlm_exp_keys(\n",
    "    models=[\n",
    "        \"gpt-4o\", \n",
    "        \"claude-3-5-sonnet-20240620\", \n",
    "        \"gemini-1-5-pro\"\n",
    "    ],\n",
    "    templates={\n",
    "        \"gpt-4o\": [\"video_qa\"],\n",
    "        \"claude-3-5-sonnet-20240620\": [\"video_qa\"],\n",
    "        \"gemini-1-5-pro\": [\"video_qa\"],\n",
    "    }\n",
    ")\n",
    "\n",
    "# Load results.\n",
    "real_splits = [\"test\"]\n",
    "real_metrics = compile_metrics(\n",
    "    domain=\"0914_push_chair_4\",\n",
    "    splits=real_splits,\n",
    "    exp_keys=real_exp_keys,\n",
    "    return_test_data=True,\n",
    "    return_test_frame=True,\n",
    ")"
   ]
  },
  {
   "cell_type": "code",
   "execution_count": null,
   "metadata": {},
   "outputs": [],
   "source": [
    "for exp_key in real_exp_keys:\n",
    "    row = f\"{exp_key} & \"\n",
    "    \n",
    "    # Dataset split result.\n",
    "    for split in real_splits:\n",
    "        for metric in [\"TPR\", \"TNR\", \"Accuracy\", \"TP Time Mean\"]:\n",
    "            stat = real_metrics[split][exp_key][\"metrics\"][metric]\n",
    "            if metric == \"TP Time Mean\":\n",
    "                stat = stat / 3\n",
    "            row += f\"{round(stat,2):0.2f} & \"\n",
    "\n",
    "    print(row[:-2] + \"\\\\\\\\\")"
   ]
  },
  {
   "cell_type": "code",
   "execution_count": null,
   "metadata": {},
   "outputs": [],
   "source": [
    "# Generate sentinel experiment keys.\n",
    "stac_exp_keys = get_temporal_consistency_exp_keys(\n",
    "    pred_horizons=[16],\n",
    "    sample_sizes=[256],\n",
    "    error_fns=[\"kde_kl_all_rev_eig\"],\n",
    "    aggr_fns=[\"\"],\n",
    ")\n",
    "vlm_exp_keys = get_vlm_exp_keys(\n",
    "    models = [\"gpt-4o\"],\n",
    "    templates = {\"gpt-4o\": [\"video_qa\"]},\n",
    ")\n",
    "\n",
    "_ = compute_sentinel_result(\n",
    "    stac_exp_key=stac_exp_keys[0],\n",
    "    vlm_exp_keys_list=[vlm_exp_keys],\n",
    "    splits_list=[[\"test\"]],\n",
    "    metrics_list=[real_metrics],\n",
    "    time_mod=3.0,\n",
    "    domain_names=[\"Push Chair\"]\n",
    ")"
   ]
  }
 ],
 "metadata": {
  "kernelspec": {
   "display_name": "mm-lfd-nhS_BEB0-py3.10",
   "language": "python",
   "name": "python3"
  },
  "language_info": {
   "codemirror_mode": {
    "name": "ipython",
    "version": 3
   },
   "file_extension": ".py",
   "mimetype": "text/x-python",
   "name": "python",
   "nbconvert_exporter": "python",
   "pygments_lexer": "ipython3",
   "version": "3.10.13"
  }
 },
 "nbformat": 4,
 "nbformat_minor": 2
}
